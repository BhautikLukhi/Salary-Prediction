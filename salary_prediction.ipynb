{
  "cells": [
    {
      "cell_type": "code",
      "execution_count": 1,
      "metadata": {
        "id": "YMd8E4WwhZ3-"
      },
      "outputs": [],
      "source": [
        "import pandas as pd\n",
        "import matplotlib.pyplot as plt"
      ]
    },
    {
      "cell_type": "code",
      "execution_count": 3,
      "metadata": {
        "colab": {
          "base_uri": "https://localhost:8080/",
          "height": 655
        },
        "id": "VwPPA4P7hZ3_",
        "outputId": "a045ab3a-0bc2-4f9f-8a88-bf71cb138a78"
      },
      "outputs": [
        {
          "data": {
            "text/html": [
              "<div>\n",
              "<style scoped>\n",
              "    .dataframe tbody tr th:only-of-type {\n",
              "        vertical-align: middle;\n",
              "    }\n",
              "\n",
              "    .dataframe tbody tr th {\n",
              "        vertical-align: top;\n",
              "    }\n",
              "\n",
              "    .dataframe thead th {\n",
              "        text-align: right;\n",
              "    }\n",
              "</style>\n",
              "<table border=\"1\" class=\"dataframe\">\n",
              "  <thead>\n",
              "    <tr style=\"text-align: right;\">\n",
              "      <th></th>\n",
              "      <th>ResponseId</th>\n",
              "      <th>MainBranch</th>\n",
              "      <th>Age</th>\n",
              "      <th>Employment</th>\n",
              "      <th>RemoteWork</th>\n",
              "      <th>Check</th>\n",
              "      <th>CodingActivities</th>\n",
              "      <th>EdLevel</th>\n",
              "      <th>LearnCode</th>\n",
              "      <th>LearnCodeOnline</th>\n",
              "      <th>...</th>\n",
              "      <th>JobSatPoints_6</th>\n",
              "      <th>JobSatPoints_7</th>\n",
              "      <th>JobSatPoints_8</th>\n",
              "      <th>JobSatPoints_9</th>\n",
              "      <th>JobSatPoints_10</th>\n",
              "      <th>JobSatPoints_11</th>\n",
              "      <th>SurveyLength</th>\n",
              "      <th>SurveyEase</th>\n",
              "      <th>ConvertedCompYearly</th>\n",
              "      <th>JobSat</th>\n",
              "    </tr>\n",
              "  </thead>\n",
              "  <tbody>\n",
              "    <tr>\n",
              "      <th>0</th>\n",
              "      <td>1</td>\n",
              "      <td>I am a developer by profession</td>\n",
              "      <td>Under 18 years old</td>\n",
              "      <td>Employed, full-time</td>\n",
              "      <td>Remote</td>\n",
              "      <td>Apples</td>\n",
              "      <td>Hobby</td>\n",
              "      <td>Primary/elementary school</td>\n",
              "      <td>Books / Physical media</td>\n",
              "      <td>NaN</td>\n",
              "      <td>...</td>\n",
              "      <td>NaN</td>\n",
              "      <td>NaN</td>\n",
              "      <td>NaN</td>\n",
              "      <td>NaN</td>\n",
              "      <td>NaN</td>\n",
              "      <td>NaN</td>\n",
              "      <td>NaN</td>\n",
              "      <td>NaN</td>\n",
              "      <td>NaN</td>\n",
              "      <td>NaN</td>\n",
              "    </tr>\n",
              "    <tr>\n",
              "      <th>1</th>\n",
              "      <td>2</td>\n",
              "      <td>I am a developer by profession</td>\n",
              "      <td>35-44 years old</td>\n",
              "      <td>Employed, full-time</td>\n",
              "      <td>Remote</td>\n",
              "      <td>Apples</td>\n",
              "      <td>Hobby;Contribute to open-source projects;Other...</td>\n",
              "      <td>Bachelor’s degree (B.A., B.S., B.Eng., etc.)</td>\n",
              "      <td>Books / Physical media;Colleague;On the job tr...</td>\n",
              "      <td>Technical documentation;Blogs;Books;Written Tu...</td>\n",
              "      <td>...</td>\n",
              "      <td>0.0</td>\n",
              "      <td>0.0</td>\n",
              "      <td>0.0</td>\n",
              "      <td>0.0</td>\n",
              "      <td>0.0</td>\n",
              "      <td>0.0</td>\n",
              "      <td>NaN</td>\n",
              "      <td>NaN</td>\n",
              "      <td>NaN</td>\n",
              "      <td>NaN</td>\n",
              "    </tr>\n",
              "    <tr>\n",
              "      <th>2</th>\n",
              "      <td>3</td>\n",
              "      <td>I am a developer by profession</td>\n",
              "      <td>45-54 years old</td>\n",
              "      <td>Employed, full-time</td>\n",
              "      <td>Remote</td>\n",
              "      <td>Apples</td>\n",
              "      <td>Hobby;Contribute to open-source projects;Other...</td>\n",
              "      <td>Master’s degree (M.A., M.S., M.Eng., MBA, etc.)</td>\n",
              "      <td>Books / Physical media;Colleague;On the job tr...</td>\n",
              "      <td>Technical documentation;Blogs;Books;Written Tu...</td>\n",
              "      <td>...</td>\n",
              "      <td>NaN</td>\n",
              "      <td>NaN</td>\n",
              "      <td>NaN</td>\n",
              "      <td>NaN</td>\n",
              "      <td>NaN</td>\n",
              "      <td>NaN</td>\n",
              "      <td>Appropriate in length</td>\n",
              "      <td>Easy</td>\n",
              "      <td>NaN</td>\n",
              "      <td>NaN</td>\n",
              "    </tr>\n",
              "    <tr>\n",
              "      <th>3</th>\n",
              "      <td>4</td>\n",
              "      <td>I am learning to code</td>\n",
              "      <td>18-24 years old</td>\n",
              "      <td>Student, full-time</td>\n",
              "      <td>NaN</td>\n",
              "      <td>Apples</td>\n",
              "      <td>NaN</td>\n",
              "      <td>Some college/university study without earning ...</td>\n",
              "      <td>Other online resources (e.g., videos, blogs, f...</td>\n",
              "      <td>Stack Overflow;How-to videos;Interactive tutorial</td>\n",
              "      <td>...</td>\n",
              "      <td>NaN</td>\n",
              "      <td>NaN</td>\n",
              "      <td>NaN</td>\n",
              "      <td>NaN</td>\n",
              "      <td>NaN</td>\n",
              "      <td>NaN</td>\n",
              "      <td>Too long</td>\n",
              "      <td>Easy</td>\n",
              "      <td>NaN</td>\n",
              "      <td>NaN</td>\n",
              "    </tr>\n",
              "    <tr>\n",
              "      <th>4</th>\n",
              "      <td>5</td>\n",
              "      <td>I am a developer by profession</td>\n",
              "      <td>18-24 years old</td>\n",
              "      <td>Student, full-time</td>\n",
              "      <td>NaN</td>\n",
              "      <td>Apples</td>\n",
              "      <td>NaN</td>\n",
              "      <td>Secondary school (e.g. American high school, G...</td>\n",
              "      <td>Other online resources (e.g., videos, blogs, f...</td>\n",
              "      <td>Technical documentation;Blogs;Written Tutorial...</td>\n",
              "      <td>...</td>\n",
              "      <td>NaN</td>\n",
              "      <td>NaN</td>\n",
              "      <td>NaN</td>\n",
              "      <td>NaN</td>\n",
              "      <td>NaN</td>\n",
              "      <td>NaN</td>\n",
              "      <td>Too short</td>\n",
              "      <td>Easy</td>\n",
              "      <td>NaN</td>\n",
              "      <td>NaN</td>\n",
              "    </tr>\n",
              "  </tbody>\n",
              "</table>\n",
              "<p>5 rows × 114 columns</p>\n",
              "</div>"
            ],
            "text/plain": [
              "   ResponseId                      MainBranch                 Age  \\\n",
              "0           1  I am a developer by profession  Under 18 years old   \n",
              "1           2  I am a developer by profession     35-44 years old   \n",
              "2           3  I am a developer by profession     45-54 years old   \n",
              "3           4           I am learning to code     18-24 years old   \n",
              "4           5  I am a developer by profession     18-24 years old   \n",
              "\n",
              "            Employment RemoteWork   Check  \\\n",
              "0  Employed, full-time     Remote  Apples   \n",
              "1  Employed, full-time     Remote  Apples   \n",
              "2  Employed, full-time     Remote  Apples   \n",
              "3   Student, full-time        NaN  Apples   \n",
              "4   Student, full-time        NaN  Apples   \n",
              "\n",
              "                                    CodingActivities  \\\n",
              "0                                              Hobby   \n",
              "1  Hobby;Contribute to open-source projects;Other...   \n",
              "2  Hobby;Contribute to open-source projects;Other...   \n",
              "3                                                NaN   \n",
              "4                                                NaN   \n",
              "\n",
              "                                             EdLevel  \\\n",
              "0                          Primary/elementary school   \n",
              "1       Bachelor’s degree (B.A., B.S., B.Eng., etc.)   \n",
              "2    Master’s degree (M.A., M.S., M.Eng., MBA, etc.)   \n",
              "3  Some college/university study without earning ...   \n",
              "4  Secondary school (e.g. American high school, G...   \n",
              "\n",
              "                                           LearnCode  \\\n",
              "0                             Books / Physical media   \n",
              "1  Books / Physical media;Colleague;On the job tr...   \n",
              "2  Books / Physical media;Colleague;On the job tr...   \n",
              "3  Other online resources (e.g., videos, blogs, f...   \n",
              "4  Other online resources (e.g., videos, blogs, f...   \n",
              "\n",
              "                                     LearnCodeOnline  ... JobSatPoints_6  \\\n",
              "0                                                NaN  ...            NaN   \n",
              "1  Technical documentation;Blogs;Books;Written Tu...  ...            0.0   \n",
              "2  Technical documentation;Blogs;Books;Written Tu...  ...            NaN   \n",
              "3  Stack Overflow;How-to videos;Interactive tutorial  ...            NaN   \n",
              "4  Technical documentation;Blogs;Written Tutorial...  ...            NaN   \n",
              "\n",
              "  JobSatPoints_7 JobSatPoints_8 JobSatPoints_9 JobSatPoints_10  \\\n",
              "0            NaN            NaN            NaN             NaN   \n",
              "1            0.0            0.0            0.0             0.0   \n",
              "2            NaN            NaN            NaN             NaN   \n",
              "3            NaN            NaN            NaN             NaN   \n",
              "4            NaN            NaN            NaN             NaN   \n",
              "\n",
              "  JobSatPoints_11           SurveyLength SurveyEase ConvertedCompYearly JobSat  \n",
              "0             NaN                    NaN        NaN                 NaN    NaN  \n",
              "1             0.0                    NaN        NaN                 NaN    NaN  \n",
              "2             NaN  Appropriate in length       Easy                 NaN    NaN  \n",
              "3             NaN               Too long       Easy                 NaN    NaN  \n",
              "4             NaN              Too short       Easy                 NaN    NaN  \n",
              "\n",
              "[5 rows x 114 columns]"
            ]
          },
          "execution_count": 3,
          "metadata": {},
          "output_type": "execute_result"
        }
      ],
      "source": [
        "data = pd.read_csv('/Users/bhautik/Downloads/stack-overflow-developer-survey-2024/survey_results_public.csv')\n",
        "data.head()"
      ]
    },
    {
      "cell_type": "markdown",
      "metadata": {
        "id": "2vSPTFJLhZ4A"
      },
      "source": [
        "## Data Cleaning and Manipulation\n",
        "- Let's start by having a look at the columns of our data"
      ]
    },
    {
      "cell_type": "code",
      "execution_count": 4,
      "metadata": {
        "colab": {
          "base_uri": "https://localhost:8080/"
        },
        "id": "kqRIuqe_hZ4C",
        "outputId": "0ec41157-3d62-4dae-d89f-9922e8f203c7"
      },
      "outputs": [
        {
          "data": {
            "text/plain": [
              "Index(['ResponseId', 'MainBranch', 'Age', 'Employment', 'RemoteWork', 'Check',\n",
              "       'CodingActivities', 'EdLevel', 'LearnCode', 'LearnCodeOnline',\n",
              "       ...\n",
              "       'JobSatPoints_6', 'JobSatPoints_7', 'JobSatPoints_8', 'JobSatPoints_9',\n",
              "       'JobSatPoints_10', 'JobSatPoints_11', 'SurveyLength', 'SurveyEase',\n",
              "       'ConvertedCompYearly', 'JobSat'],\n",
              "      dtype='object', length=114)"
            ]
          },
          "execution_count": 4,
          "metadata": {},
          "output_type": "execute_result"
        }
      ],
      "source": [
        "data.columns"
      ]
    },
    {
      "cell_type": "markdown",
      "metadata": {
        "id": "cXdcg-zThZ4C"
      },
      "source": [
        "- Now from all the columns we have we will only use 5 columns to predict the salary\n",
        "- Columns we will use are 'Country', 'EdLevel', 'YearsCodePro', 'Employment', 'ConvertedComp'"
      ]
    },
    {
      "cell_type": "code",
      "execution_count": 5,
      "metadata": {
        "colab": {
          "base_uri": "https://localhost:8080/",
          "height": 414
        },
        "id": "qUptLVjchZ4C",
        "outputId": "04ec4213-2bd9-4447-cc48-36153acaadee"
      },
      "outputs": [
        {
          "data": {
            "text/html": [
              "<div>\n",
              "<style scoped>\n",
              "    .dataframe tbody tr th:only-of-type {\n",
              "        vertical-align: middle;\n",
              "    }\n",
              "\n",
              "    .dataframe tbody tr th {\n",
              "        vertical-align: top;\n",
              "    }\n",
              "\n",
              "    .dataframe thead th {\n",
              "        text-align: right;\n",
              "    }\n",
              "</style>\n",
              "<table border=\"1\" class=\"dataframe\">\n",
              "  <thead>\n",
              "    <tr style=\"text-align: right;\">\n",
              "      <th></th>\n",
              "      <th>Country</th>\n",
              "      <th>EdLevel</th>\n",
              "      <th>YearsCodePro</th>\n",
              "      <th>Employment</th>\n",
              "      <th>Salary</th>\n",
              "    </tr>\n",
              "  </thead>\n",
              "  <tbody>\n",
              "    <tr>\n",
              "      <th>0</th>\n",
              "      <td>United States of America</td>\n",
              "      <td>Primary/elementary school</td>\n",
              "      <td>NaN</td>\n",
              "      <td>Employed, full-time</td>\n",
              "      <td>NaN</td>\n",
              "    </tr>\n",
              "    <tr>\n",
              "      <th>1</th>\n",
              "      <td>United Kingdom of Great Britain and Northern I...</td>\n",
              "      <td>Bachelor’s degree (B.A., B.S., B.Eng., etc.)</td>\n",
              "      <td>17</td>\n",
              "      <td>Employed, full-time</td>\n",
              "      <td>NaN</td>\n",
              "    </tr>\n",
              "    <tr>\n",
              "      <th>2</th>\n",
              "      <td>United Kingdom of Great Britain and Northern I...</td>\n",
              "      <td>Master’s degree (M.A., M.S., M.Eng., MBA, etc.)</td>\n",
              "      <td>27</td>\n",
              "      <td>Employed, full-time</td>\n",
              "      <td>NaN</td>\n",
              "    </tr>\n",
              "    <tr>\n",
              "      <th>3</th>\n",
              "      <td>Canada</td>\n",
              "      <td>Some college/university study without earning ...</td>\n",
              "      <td>NaN</td>\n",
              "      <td>Student, full-time</td>\n",
              "      <td>NaN</td>\n",
              "    </tr>\n",
              "    <tr>\n",
              "      <th>4</th>\n",
              "      <td>Norway</td>\n",
              "      <td>Secondary school (e.g. American high school, G...</td>\n",
              "      <td>NaN</td>\n",
              "      <td>Student, full-time</td>\n",
              "      <td>NaN</td>\n",
              "    </tr>\n",
              "  </tbody>\n",
              "</table>\n",
              "</div>"
            ],
            "text/plain": [
              "                                             Country  \\\n",
              "0                           United States of America   \n",
              "1  United Kingdom of Great Britain and Northern I...   \n",
              "2  United Kingdom of Great Britain and Northern I...   \n",
              "3                                             Canada   \n",
              "4                                             Norway   \n",
              "\n",
              "                                             EdLevel YearsCodePro  \\\n",
              "0                          Primary/elementary school          NaN   \n",
              "1       Bachelor’s degree (B.A., B.S., B.Eng., etc.)           17   \n",
              "2    Master’s degree (M.A., M.S., M.Eng., MBA, etc.)           27   \n",
              "3  Some college/university study without earning ...          NaN   \n",
              "4  Secondary school (e.g. American high school, G...          NaN   \n",
              "\n",
              "            Employment  Salary  \n",
              "0  Employed, full-time     NaN  \n",
              "1  Employed, full-time     NaN  \n",
              "2  Employed, full-time     NaN  \n",
              "3   Student, full-time     NaN  \n",
              "4   Student, full-time     NaN  "
            ]
          },
          "execution_count": 5,
          "metadata": {},
          "output_type": "execute_result"
        }
      ],
      "source": [
        "# choose column we will use for prediction\n",
        "data = data[['Country', 'EdLevel', 'YearsCodePro', 'Employment', 'ConvertedCompYearly']]\n",
        "# rename 'ConvertedCompYearly' to 'Salary'\n",
        "data = data.rename({'ConvertedCompYearly': 'Salary'}, axis=1)\n",
        "data.head()"
      ]
    },
    {
      "cell_type": "markdown",
      "metadata": {
        "id": "rePLydjehZ4D"
      },
      "source": [
        "- Let's have a look at the information of our new column"
      ]
    },
    {
      "cell_type": "code",
      "execution_count": 6,
      "metadata": {
        "colab": {
          "base_uri": "https://localhost:8080/"
        },
        "id": "9YeIJXquhZ4D",
        "outputId": "5544dd7a-4c37-448e-fa61-d2d6c0b991fb"
      },
      "outputs": [
        {
          "name": "stdout",
          "output_type": "stream",
          "text": [
            "<class 'pandas.core.frame.DataFrame'>\n",
            "RangeIndex: 65437 entries, 0 to 65436\n",
            "Data columns (total 5 columns):\n",
            " #   Column        Non-Null Count  Dtype  \n",
            "---  ------        --------------  -----  \n",
            " 0   Country       58930 non-null  object \n",
            " 1   EdLevel       60784 non-null  object \n",
            " 2   YearsCodePro  51610 non-null  object \n",
            " 3   Employment    65437 non-null  object \n",
            " 4   Salary        23435 non-null  float64\n",
            "dtypes: float64(1), object(4)\n",
            "memory usage: 2.5+ MB\n"
          ]
        }
      ],
      "source": [
        "data.info()"
      ]
    },
    {
      "cell_type": "markdown",
      "metadata": {
        "id": "wURQb9YPhZ4E"
      },
      "source": [
        "- Now let's check for missing values in our new data"
      ]
    },
    {
      "cell_type": "code",
      "execution_count": 7,
      "metadata": {
        "colab": {
          "base_uri": "https://localhost:8080/"
        },
        "id": "e0WD0mDvhZ4E",
        "outputId": "706449a9-2cae-47a7-a0a8-c7e5051489e2"
      },
      "outputs": [
        {
          "data": {
            "text/plain": [
              "Country          6507\n",
              "EdLevel          4653\n",
              "YearsCodePro    13827\n",
              "Employment          0\n",
              "Salary          42002\n",
              "dtype: int64"
            ]
          },
          "execution_count": 7,
          "metadata": {},
          "output_type": "execute_result"
        }
      ],
      "source": [
        "# check for missng values\n",
        "data.isnull().sum()"
      ]
    },
    {
      "cell_type": "markdown",
      "metadata": {
        "id": "HdqwGHKOhZ4E"
      },
      "source": [
        "-Inorder for our  model to predict, we should use our data that contains salary values. Threfore, we'll choose the data in which there are no any null values in the 'Salary' column"
      ]
    },
    {
      "cell_type": "code",
      "execution_count": 8,
      "metadata": {
        "colab": {
          "base_uri": "https://localhost:8080/"
        },
        "id": "LGMuI6HDhZ4F",
        "outputId": "13f53bf1-0dfc-4f7d-90cb-35e1e8df7281"
      },
      "outputs": [
        {
          "data": {
            "text/plain": [
              "Country          0\n",
              "EdLevel          0\n",
              "YearsCodePro    90\n",
              "Employment       0\n",
              "Salary           0\n",
              "dtype: int64"
            ]
          },
          "execution_count": 8,
          "metadata": {},
          "output_type": "execute_result"
        }
      ],
      "source": [
        "# select 'Salary' column with no null values\n",
        "data = data[data['Salary'].notnull()]\n",
        "data.isnull().sum()"
      ]
    },
    {
      "cell_type": "markdown",
      "metadata": {
        "id": "oNiO4m3bhZ4F"
      },
      "source": [
        "- After we have selected the column with no null values for the 'Salary' column we still can see there are some msiing values in the 'YearsCodePro' and 'Employent' columns. We will drop the rows with null values"
      ]
    },
    {
      "cell_type": "code",
      "execution_count": 9,
      "metadata": {
        "colab": {
          "base_uri": "https://localhost:8080/"
        },
        "id": "UmAdRBVXhZ4F",
        "outputId": "bc534fa3-1b5b-485b-dc99-650792a41a6a"
      },
      "outputs": [
        {
          "data": {
            "text/plain": [
              "Country         0\n",
              "EdLevel         0\n",
              "YearsCodePro    0\n",
              "Employment      0\n",
              "Salary          0\n",
              "dtype: int64"
            ]
          },
          "execution_count": 9,
          "metadata": {},
          "output_type": "execute_result"
        }
      ],
      "source": [
        "# drop rows with null values\n",
        "data = data.dropna()\n",
        "# check null values\n",
        "data.isnull().sum()"
      ]
    },
    {
      "cell_type": "code",
      "execution_count": 10,
      "metadata": {
        "colab": {
          "base_uri": "https://localhost:8080/"
        },
        "id": "zbaStmHrhZ4F",
        "outputId": "79a24622-7ea1-4de8-9108-a6a8f0453129"
      },
      "outputs": [
        {
          "name": "stdout",
          "output_type": "stream",
          "text": [
            "<class 'pandas.core.frame.DataFrame'>\n",
            "Index: 23345 entries, 72 to 41187\n",
            "Data columns (total 5 columns):\n",
            " #   Column        Non-Null Count  Dtype  \n",
            "---  ------        --------------  -----  \n",
            " 0   Country       23345 non-null  object \n",
            " 1   EdLevel       23345 non-null  object \n",
            " 2   YearsCodePro  23345 non-null  object \n",
            " 3   Employment    23345 non-null  object \n",
            " 4   Salary        23345 non-null  float64\n",
            "dtypes: float64(1), object(4)\n",
            "memory usage: 1.1+ MB\n"
          ]
        }
      ],
      "source": [
        "data.info()"
      ]
    },
    {
      "cell_type": "markdown",
      "metadata": {
        "id": "65k19wtshZ4G"
      },
      "source": [
        "- Now, we'll only select values 'Employed full-time' columns in the 'Employment' column"
      ]
    },
    {
      "cell_type": "code",
      "execution_count": 11,
      "metadata": {
        "colab": {
          "base_uri": "https://localhost:8080/"
        },
        "id": "q5_ABdiIhZ4G",
        "outputId": "f2023dd4-08d0-4f42-de3c-56b37af6e0e9"
      },
      "outputs": [
        {
          "data": {
            "text/plain": [
              "array(['Employed, full-time;Student, full-time;Independent contractor, freelancer, or self-employed;Employed, part-time',\n",
              "       'Employed, full-time',\n",
              "       'Independent contractor, freelancer, or self-employed',\n",
              "       'Employed, full-time;Student, part-time',\n",
              "       'Employed, full-time;Independent contractor, freelancer, or self-employed',\n",
              "       'Employed, full-time;Student, full-time',\n",
              "       'Student, part-time;Employed, part-time',\n",
              "       'Student, full-time;Independent contractor, freelancer, or self-employed',\n",
              "       'Retired',\n",
              "       'Independent contractor, freelancer, or self-employed;Employed, part-time',\n",
              "       'Not employed, but looking for work', 'Employed, part-time',\n",
              "       'Employed, full-time;Independent contractor, freelancer, or self-employed;Student, part-time',\n",
              "       'Employed, full-time;Independent contractor, freelancer, or self-employed;Employed, part-time',\n",
              "       'Student, full-time;Employed, part-time',\n",
              "       'Employed, full-time;Employed, part-time',\n",
              "       'Independent contractor, freelancer, or self-employed;Student, part-time',\n",
              "       'Employed, full-time;Not employed, but looking for work',\n",
              "       'Employed, full-time;Retired',\n",
              "       'Independent contractor, freelancer, or self-employed;Retired',\n",
              "       'Not employed, but looking for work;Independent contractor, freelancer, or self-employed',\n",
              "       'Not employed, but looking for work;Independent contractor, freelancer, or self-employed;Employed, part-time',\n",
              "       'Employed, full-time;Independent contractor, freelancer, or self-employed;Student, part-time;Employed, part-time',\n",
              "       'Independent contractor, freelancer, or self-employed;Not employed, and not looking for work',\n",
              "       'Not employed, but looking for work;Student, part-time;Employed, part-time',\n",
              "       'Employed, full-time;Independent contractor, freelancer, or self-employed;Not employed, and not looking for work',\n",
              "       'Student, full-time;Independent contractor, freelancer, or self-employed;Employed, part-time',\n",
              "       'Employed, full-time;Student, full-time;Student, part-time',\n",
              "       'Employed, full-time;Student, full-time;Not employed, but looking for work',\n",
              "       'Employed, full-time;Student, full-time;Independent contractor, freelancer, or self-employed',\n",
              "       'Independent contractor, freelancer, or self-employed;Student, part-time;Employed, part-time',\n",
              "       'Employed, full-time;Not employed, but looking for work;Employed, part-time',\n",
              "       'Not employed, but looking for work;Employed, part-time',\n",
              "       'Employed, full-time;Not employed, but looking for work;Independent contractor, freelancer, or self-employed',\n",
              "       'Student, full-time;Not employed, but looking for work;Independent contractor, freelancer, or self-employed',\n",
              "       'Independent contractor, freelancer, or self-employed;Not employed, and not looking for work;Student, part-time',\n",
              "       'Employed, full-time;Student, full-time;Employed, part-time',\n",
              "       'Employed, full-time;Student, full-time;Not employed, but looking for work;Independent contractor, freelancer, or self-employed;Student, part-time;Employed, part-time',\n",
              "       'Employed, full-time;Student, full-time;Student, part-time;Employed, part-time',\n",
              "       'Not employed, but looking for work;Independent contractor, freelancer, or self-employed;Student, part-time;Employed, part-time',\n",
              "       'Not employed, but looking for work;Independent contractor, freelancer, or self-employed;Student, part-time',\n",
              "       'Student, full-time;Independent contractor, freelancer, or self-employed;Not employed, and not looking for work',\n",
              "       'Employed, full-time;Independent contractor, freelancer, or self-employed;Student, part-time;Retired',\n",
              "       'Employed, full-time;Not employed, and not looking for work',\n",
              "       'Employed, full-time;Student, part-time;Employed, part-time',\n",
              "       'Not employed, but looking for work;Independent contractor, freelancer, or self-employed;Retired',\n",
              "       'Employed, part-time;Retired',\n",
              "       'Employed, full-time;Not employed, but looking for work;Independent contractor, freelancer, or self-employed;Employed, part-time',\n",
              "       'Student, full-time;Independent contractor, freelancer, or self-employed;Student, part-time;Employed, part-time',\n",
              "       'Independent contractor, freelancer, or self-employed;Not employed, and not looking for work;Retired',\n",
              "       'Not employed, but looking for work;Independent contractor, freelancer, or self-employed;Not employed, and not looking for work',\n",
              "       'Employed, full-time;Not employed, but looking for work;Not employed, and not looking for work;Employed, part-time',\n",
              "       'Independent contractor, freelancer, or self-employed;Employed, part-time;Retired',\n",
              "       'Employed, full-time;Student, full-time;Not employed, but looking for work;Independent contractor, freelancer, or self-employed;Not employed, and not looking for work;Student, part-time;Employed, part-time;Retired',\n",
              "       'Student, full-time;Not employed, but looking for work;Employed, part-time'],\n",
              "      dtype=object)"
            ]
          },
          "execution_count": 11,
          "metadata": {},
          "output_type": "execute_result"
        }
      ],
      "source": [
        "data['Employment'].unique()"
      ]
    },
    {
      "cell_type": "code",
      "execution_count": 12,
      "metadata": {
        "colab": {
          "base_uri": "https://localhost:8080/"
        },
        "id": "IOQwMKaWhZ4G",
        "outputId": "127e0bd8-f189-48ca-d28a-0e61b7c6ff14"
      },
      "outputs": [
        {
          "name": "stdout",
          "output_type": "stream",
          "text": [
            "<class 'pandas.core.frame.DataFrame'>\n",
            "Index: 17527 entries, 374 to 41185\n",
            "Data columns (total 4 columns):\n",
            " #   Column        Non-Null Count  Dtype  \n",
            "---  ------        --------------  -----  \n",
            " 0   Country       17527 non-null  object \n",
            " 1   EdLevel       17527 non-null  object \n",
            " 2   YearsCodePro  17527 non-null  object \n",
            " 3   Salary        17527 non-null  float64\n",
            "dtypes: float64(1), object(3)\n",
            "memory usage: 684.6+ KB\n"
          ]
        }
      ],
      "source": [
        "# filter 'Employed full-time' values in the 'Employment' column\n",
        "data = data[data['Employment'] == 'Employed, full-time']\n",
        "\n",
        "# drop the 'Employment' column\n",
        "data = data.drop('Employment', axis=1)\n",
        "data.info()"
      ]
    },
    {
      "cell_type": "markdown",
      "metadata": {
        "id": "3XNXya8ehZ4G"
      },
      "source": [
        "- Now let's have a look at the value counts for the 'Country' column"
      ]
    },
    {
      "cell_type": "code",
      "execution_count": 13,
      "metadata": {
        "colab": {
          "base_uri": "https://localhost:8080/"
        },
        "id": "w1ciqebEhZ4G",
        "outputId": "6d641615-a991-44f0-979e-ccb41ecda905"
      },
      "outputs": [
        {
          "data": {
            "text/plain": [
              "Country\n",
              "United States of America                                3903\n",
              "Germany                                                 1491\n",
              "United Kingdom of Great Britain and Northern Ireland    1141\n",
              "Ukraine                                                 1017\n",
              "India                                                    836\n",
              "                                                        ... \n",
              "Kosovo                                                     1\n",
              "Oman                                                       1\n",
              "Guyana                                                     1\n",
              "Angola                                                     1\n",
              "Mali                                                       1\n",
              "Name: count, Length: 155, dtype: int64"
            ]
          },
          "execution_count": 13,
          "metadata": {},
          "output_type": "execute_result"
        }
      ],
      "source": [
        "data['Country'].value_counts()"
      ]
    },
    {
      "cell_type": "markdown",
      "metadata": {
        "id": "ekPvsZ1fhZ4H"
      },
      "source": [
        "- A the countries with only '1' vaue counts are of less use to our model we will come up with a solution"
      ]
    },
    {
      "cell_type": "code",
      "execution_count": 14,
      "metadata": {
        "id": "oUtsTKTPhZ4H"
      },
      "outputs": [],
      "source": [
        "# function to the shorten the 'Country' column based on the unique values and count\n",
        "def shorten_categories(categories, cutoff):\n",
        "    categorical_map = {}\n",
        "    for i in range(len(categories)):\n",
        "        if categories.values[i] >= cutoff:\n",
        "            categorical_map[categories.index[i]] = categories.index[i]\n",
        "        else:\n",
        "            categorical_map[categories.index[i]] = 'Other'\n",
        "    return categorical_map"
      ]
    },
    {
      "cell_type": "code",
      "execution_count": 15,
      "metadata": {
        "colab": {
          "base_uri": "https://localhost:8080/"
        },
        "id": "2GhQIkdehZ4H",
        "outputId": "f2df9c53-57c3-423d-e0b6-3d8a9f7245cf"
      },
      "outputs": [
        {
          "data": {
            "text/plain": [
              "Country\n",
              "Other                                                   5628\n",
              "United States of America                                3903\n",
              "Germany                                                 1491\n",
              "United Kingdom of Great Britain and Northern Ireland    1141\n",
              "Ukraine                                                 1017\n",
              "India                                                    836\n",
              "France                                                   719\n",
              "Canada                                                   684\n",
              "Brazil                                                   457\n",
              "Spain                                                    431\n",
              "Italy                                                    414\n",
              "Netherlands                                              406\n",
              "Australia                                                400\n",
              "Name: count, dtype: int64"
            ]
          },
          "execution_count": 15,
          "metadata": {},
          "output_type": "execute_result"
        }
      ],
      "source": [
        "# applying the shorten_categories function\n",
        "country =  data['Country'].value_counts()\n",
        "country_map = shorten_categories(country, 400)\n",
        "data['Country'] = data['Country'].map(country_map)\n",
        "data['Country'].value_counts()"
      ]
    },
    {
      "cell_type": "markdown",
      "metadata": {
        "id": "aeY5j9WshZ4H"
      },
      "source": [
        "## Data Visualization\n",
        "- let's visualize our data using the boxplot to check for outliers"
      ]
    },
    {
      "cell_type": "code",
      "execution_count": 16,
      "metadata": {
        "colab": {
          "base_uri": "https://localhost:8080/",
          "height": 636
        },
        "id": "4yeKBOHLhZ4H",
        "outputId": "46430625-ee7e-41cf-e701-46e0285836fb"
      },
      "outputs": [
        {
          "data": {
            "image/png": "[encoded data removed]",
            "text/plain": [
              "<Figure size 1200x700 with 1 Axes>"
            ]
          },
          "metadata": {},
          "output_type": "display_data"
        }
      ],
      "source": [
        "# create a boxplot\n",
        "fig, ax = plt.subplots(1,1, figsize=(12, 7))\n",
        "data.boxplot('Salary', 'Country', ax=ax)\n",
        "plt.suptitle('Salary (US$) vs Country')\n",
        "plt.title('')\n",
        "plt.ylabel('Salary')\n",
        "plt.xticks(rotation=90)\n",
        "plt.show()"
      ]
    },
    {
      "cell_type": "markdown",
      "metadata": {
        "id": "6pJjrUKFhZ4I"
      },
      "source": [
        "- Now, we'll filter the data with Salary in teh range of 10000 to 250000 and excluding the 'Other' category from the 'Country' column"
      ]
    },
    {
      "cell_type": "code",
      "execution_count": 17,
      "metadata": {
        "id": "Cr1X2w_0hZ4I"
      },
      "outputs": [],
      "source": [
        "data = data[(data['Salary'] >= 10000) & (data['Salary'] <= 250000) & (data['Country'] != 'Other')]"
      ]
    },
    {
      "cell_type": "code",
      "execution_count": 18,
      "metadata": {
        "colab": {
          "base_uri": "https://localhost:8080/",
          "height": 611
        },
        "id": "vdTJDhsmhZ4I",
        "outputId": "a701b167-fe59-4bad-9ea7-e0dff7223a57"
      },
      "outputs": [
        {
          "data": {
            "image/png": "[encoded data removed]",
            "text/plain": [
              "<Figure size 1200x700 with 1 Axes>"
            ]
          },
          "metadata": {},
          "output_type": "display_data"
        }
      ],
      "source": [
        "# boxplot after filtering\n",
        "fig, ax = plt.subplots(1 ,1 ,figsize=(12, 7))\n",
        "data.boxplot('Salary', 'Country', ax=ax)\n",
        "plt.suptitle('Salary (US$) vs Country')\n",
        "plt.title('')\n",
        "plt.ylabel('Salary')\n",
        "plt.xticks(rotation=90)\n",
        "plt.show()"
      ]
    },
    {
      "cell_type": "markdown",
      "metadata": {
        "id": "nkcgQ35LhZ4I"
      },
      "source": [
        "- Now, let's have a look at the unique values for the 'YearsCodePro' column"
      ]
    },
    {
      "cell_type": "markdown",
      "metadata": {
        "id": "x8V5yucGhZ4I"
      },
      "source": [
        "## Data Cleaning and Preprocessing"
      ]
    },
    {
      "cell_type": "code",
      "execution_count": 19,
      "metadata": {
        "colab": {
          "base_uri": "https://localhost:8080/"
        },
        "id": "7wqBKp5ihZ4I",
        "outputId": "94d78e3d-6cec-41ec-d054-1ce3c614d3ba"
      },
      "outputs": [
        {
          "data": {
            "text/plain": [
              "array(['18', '25', '30', '50', '27', '1', '15', '11', '23', '17', '10',\n",
              "       '8', '12', '26', '40', '4', '9', '22', '28', '20', '16', '13', '3',\n",
              "       '35', '5', '31', '41', '36', '6', '14', '7', 'Less than 1 year',\n",
              "       '24', '2', '38', '32', '21', '19', '34', '29', '43', '33', '45',\n",
              "       '37', '44', '42', '39', '46', '49', '48', '47'], dtype=object)"
            ]
          },
          "execution_count": 19,
          "metadata": {},
          "output_type": "execute_result"
        }
      ],
      "source": [
        "data['YearsCodePro'].unique()"
      ]
    },
    {
      "cell_type": "markdown",
      "metadata": {
        "id": "-wunTA8ohZ4J"
      },
      "source": [
        "- As you can see the 'YearsCodePro' column contains string and also there are some tesxts dispalyed as 'Less than 1 year' and 'More than 50 years' we will clean the 'YearsCodePro' column next"
      ]
    },
    {
      "cell_type": "code",
      "execution_count": 20,
      "metadata": {
        "id": "SBF7Qi7ihZ4J"
      },
      "outputs": [],
      "source": [
        "# function to clean the 'YearsCodePro' column\n",
        "def clean_experience(x):\n",
        "    if x == 'More than 50 years':\n",
        "        return 50\n",
        "    if x == 'Less than 1 year':\n",
        "        return 0.5\n",
        "    return float(x)\n",
        "\n",
        "data['YearsCodePro'] = data['YearsCodePro'].apply(clean_experience)"
      ]
    },
    {
      "cell_type": "markdown",
      "metadata": {
        "id": "ko4joBNbhZ4J"
      },
      "source": [
        "- Now, let's have a look at the unique values for teh 'EdLevel' column"
      ]
    },
    {
      "cell_type": "code",
      "execution_count": 21,
      "metadata": {
        "colab": {
          "base_uri": "https://localhost:8080/"
        },
        "id": "V5CkwPkEhZ4J",
        "outputId": "33604a00-2f1e-4b23-d748-fcb5ee9d4a9f"
      },
      "outputs": [
        {
          "data": {
            "text/plain": [
              "array(['Professional degree (JD, MD, Ph.D, Ed.D, etc.)',\n",
              "       'Master’s degree (M.A., M.S., M.Eng., MBA, etc.)',\n",
              "       'Some college/university study without earning a degree',\n",
              "       'Bachelor’s degree (B.A., B.S., B.Eng., etc.)',\n",
              "       'Secondary school (e.g. American high school, German Realschule or Gymnasium, etc.)',\n",
              "       'Associate degree (A.A., A.S., etc.)', 'Primary/elementary school',\n",
              "       'Something else'], dtype=object)"
            ]
          },
          "execution_count": 21,
          "metadata": {},
          "output_type": "execute_result"
        }
      ],
      "source": [
        "data['EdLevel'].unique()"
      ]
    },
    {
      "cell_type": "markdown",
      "metadata": {
        "id": "gIyFmx-vhZ4J"
      },
      "source": [
        "- Now, we will clean the 'EdLevel' column"
      ]
    },
    {
      "cell_type": "code",
      "execution_count": 22,
      "metadata": {
        "id": "lXDTN5g-hZ4K"
      },
      "outputs": [],
      "source": [
        "# function to clean the 'EdLevel' column\n",
        "def clean_education(x):\n",
        "    if \"Bachelor’s degree\" in x:\n",
        "        return \"Bachelor’s degree\"\n",
        "    if \"Master’s degree\" in x:\n",
        "        return \"Master’s degree\"\n",
        "    if \"Professional degree\" in x or 'Associate degree' in x:\n",
        "        return 'Post grad'\n",
        "    return 'Less than a Bachelors'\n",
        "\n",
        "data['EdLevel'] = data['EdLevel'].apply(clean_education)"
      ]
    },
    {
      "cell_type": "code",
      "execution_count": 23,
      "metadata": {
        "colab": {
          "base_uri": "https://localhost:8080/"
        },
        "id": "BTXYPfnNhZ4K",
        "outputId": "e49f1e59-a03b-4323-be65-6b3d8f8c6c34"
      },
      "outputs": [
        {
          "data": {
            "text/plain": [
              "array(['Post grad', 'Master’s degree', 'Less than a Bachelors',\n",
              "       'Bachelor’s degree'], dtype=object)"
            ]
          },
          "execution_count": 23,
          "metadata": {},
          "output_type": "execute_result"
        }
      ],
      "source": [
        "# unique values in 'EdLevel' colum after cleaning\n",
        "data['EdLevel'].unique()"
      ]
    },
    {
      "cell_type": "markdown",
      "metadata": {
        "id": "wNnGEOh0hZ4K"
      },
      "source": [
        "- Now, let's convert teh categorical columns to numerical because our model accepts numerical values"
      ]
    },
    {
      "cell_type": "code",
      "execution_count": 24,
      "metadata": {},
      "outputs": [
        {
          "data": {
            "text/plain": [
              "(10712,)"
            ]
          },
          "execution_count": 24,
          "metadata": {},
          "output_type": "execute_result"
        }
      ],
      "source": [
        "data['EdLevel'].shape"
      ]
    },
    {
      "cell_type": "code",
      "execution_count": 25,
      "metadata": {
        "colab": {
          "base_uri": "https://localhost:8080/"
        },
        "id": "3SKRC03PhZ4Q",
        "outputId": "e8d0c592-e224-47c9-fe2b-99cd241a8542"
      },
      "outputs": [
        {
          "data": {
            "text/plain": [
              "array([3, 2, 1, 0])"
            ]
          },
          "execution_count": 25,
          "metadata": {},
          "output_type": "execute_result"
        }
      ],
      "source": [
        "# import necessary lirary\n",
        "from sklearn.preprocessing import LabelEncoder\n",
        "le_education = LabelEncoder()\n",
        "# label encode the 'EdLevel' column\n",
        "data['EdLevel'] = le_education.fit_transform(data['EdLevel'])\n",
        "data['EdLevel'].unique()"
      ]
    },
    {
      "cell_type": "code",
      "execution_count": 26,
      "metadata": {
        "colab": {
          "base_uri": "https://localhost:8080/"
        },
        "id": "bA3QjCh3hZ4Q",
        "outputId": "69544c08-7354-414e-9afd-7d76456a136a"
      },
      "outputs": [
        {
          "data": {
            "text/plain": [
              "array([10, 11,  3,  4,  1,  2,  6,  5,  9,  8,  7,  0])"
            ]
          },
          "execution_count": 26,
          "metadata": {},
          "output_type": "execute_result"
        }
      ],
      "source": [
        "le_country = LabelEncoder()\n",
        "# label encode the 'Country' column\n",
        "data['Country'] = le_country.fit_transform(data['Country'])\n",
        "data['Country'].unique()"
      ]
    },
    {
      "cell_type": "code",
      "execution_count": 28,
      "metadata": {},
      "outputs": [],
      "source": [
        "# save cleaned data\n",
        "data.to_csv('/Users/bhautik/Documents/GitHub/Salary-Prediction/cleaned_data.csv', index=False)"
      ]
    },
    {
      "cell_type": "markdown",
      "metadata": {
        "id": "42Yqj08BhZ4Q"
      },
      "source": [
        "## Model Training\n",
        "- Let's select our feature and target variables"
      ]
    },
    {
      "cell_type": "code",
      "execution_count": 29,
      "metadata": {
        "colab": {
          "base_uri": "https://localhost:8080/"
        },
        "id": "xofiOC4YhZ4R",
        "outputId": "65a248bd-3303-4fa4-e245-c47a280643b6"
      },
      "outputs": [
        {
          "name": "stdout",
          "output_type": "stream",
          "text": [
            "Shape of X: (10712, 3)\n",
            "Shape of y: (10712,)\n"
          ]
        }
      ],
      "source": [
        "X = data.drop('Salary', axis=1)\n",
        "y = data['Salary']\n",
        "\n",
        "# print shape of X and y\n",
        "print('Shape of X:', X.shape)\n",
        "print('Shape of y:', y.shape)"
      ]
    },
    {
      "cell_type": "code",
      "execution_count": 30,
      "metadata": {
        "colab": {
          "base_uri": "https://localhost:8080/"
        },
        "id": "Nv4WoB4SmfZT",
        "outputId": "82636a7c-f447-448b-f71f-543115af8613"
      },
      "outputs": [
        {
          "name": "stdout",
          "output_type": "stream",
          "text": [
            "<class 'pandas.core.frame.DataFrame'>\n",
            "Index: 10712 entries, 392 to 41185\n",
            "Data columns (total 3 columns):\n",
            " #   Column        Non-Null Count  Dtype  \n",
            "---  ------        --------------  -----  \n",
            " 0   Country       10712 non-null  int64  \n",
            " 1   EdLevel       10712 non-null  int64  \n",
            " 2   YearsCodePro  10712 non-null  float64\n",
            "dtypes: float64(1), int64(2)\n",
            "memory usage: 334.8 KB\n"
          ]
        }
      ],
      "source": [
        "X.info()"
      ]
    },
    {
      "cell_type": "markdown",
      "metadata": {
        "id": "92VRCmpXhZ4R"
      },
      "source": [
        "- Before training we should scale our data. we'll scale our data using the StandardScaler from sklearn library"
      ]
    },
    {
      "cell_type": "code",
      "execution_count": 31,
      "metadata": {
        "id": "arhQmvzIyB6u"
      },
      "outputs": [],
      "source": [
        "# set columns for our feature variable(X)\n",
        "X.columns = ['Country', 'EdLevel', 'YearsCodePro']"
      ]
    },
    {
      "cell_type": "markdown",
      "metadata": {
        "id": "ItyplDMLhZ4R"
      },
      "source": [
        "### Find best model using GridSearchCV"
      ]
    },
    {
      "cell_type": "code",
      "execution_count": 32,
      "metadata": {
        "colab": {
          "base_uri": "https://localhost:8080/",
          "height": 175
        },
        "id": "iOw1f108hZ4S",
        "outputId": "9b0b5b2c-b94f-4979-914d-b2adf947b2d4"
      },
      "outputs": [
        {
          "data": {
            "text/html": [
              "<div>\n",
              "<style scoped>\n",
              "    .dataframe tbody tr th:only-of-type {\n",
              "        vertical-align: middle;\n",
              "    }\n",
              "\n",
              "    .dataframe tbody tr th {\n",
              "        vertical-align: top;\n",
              "    }\n",
              "\n",
              "    .dataframe thead th {\n",
              "        text-align: right;\n",
              "    }\n",
              "</style>\n",
              "<table border=\"1\" class=\"dataframe\">\n",
              "  <thead>\n",
              "    <tr style=\"text-align: right;\">\n",
              "      <th></th>\n",
              "      <th>model</th>\n",
              "      <th>best_score</th>\n",
              "      <th>best_params</th>\n",
              "    </tr>\n",
              "  </thead>\n",
              "  <tbody>\n",
              "    <tr>\n",
              "      <th>0</th>\n",
              "      <td>linear_regression</td>\n",
              "      <td>0.301147</td>\n",
              "      <td>{'fit_intercept': True}</td>\n",
              "    </tr>\n",
              "    <tr>\n",
              "      <th>1</th>\n",
              "      <td>lasso</td>\n",
              "      <td>0.301147</td>\n",
              "      <td>{'alpha': 2, 'selection': 'random'}</td>\n",
              "    </tr>\n",
              "    <tr>\n",
              "      <th>2</th>\n",
              "      <td>decision_tree</td>\n",
              "      <td>0.546665</td>\n",
              "      <td>{'criterion': 'absolute_error', 'splitter': 'r...</td>\n",
              "    </tr>\n",
              "    <tr>\n",
              "      <th>3</th>\n",
              "      <td>random_forest</td>\n",
              "      <td>0.594472</td>\n",
              "      <td>{'max_depth': 8}</td>\n",
              "    </tr>\n",
              "  </tbody>\n",
              "</table>\n",
              "</div>"
            ],
            "text/plain": [
              "               model  best_score  \\\n",
              "0  linear_regression    0.301147   \n",
              "1              lasso    0.301147   \n",
              "2      decision_tree    0.546665   \n",
              "3      random_forest    0.594472   \n",
              "\n",
              "                                         best_params  \n",
              "0                            {'fit_intercept': True}  \n",
              "1                {'alpha': 2, 'selection': 'random'}  \n",
              "2  {'criterion': 'absolute_error', 'splitter': 'r...  \n",
              "3                                   {'max_depth': 8}  "
            ]
          },
          "execution_count": 32,
          "metadata": {},
          "output_type": "execute_result"
        }
      ],
      "source": [
        "# import GridSearchCV library and ShuffleSplit\n",
        "from sklearn.model_selection import GridSearchCV\n",
        "from sklearn.model_selection import ShuffleSplit\n",
        "\n",
        "# import algorithms\n",
        "from sklearn.linear_model import LinearRegression\n",
        "from sklearn.linear_model import Lasso\n",
        "from sklearn.tree import DecisionTreeRegressor\n",
        "from sklearn.ensemble import RandomForestRegressor\n",
        "\n",
        "def find_best_model_using_gridsearchcv(X,y):\n",
        "    algos = {\n",
        "        'linear_regression' : {\n",
        "            'model': LinearRegression(),\n",
        "            'params': {\n",
        "                'fit_intercept': [True, False],\n",
        "            }\n",
        "        },\n",
        "        'lasso': {\n",
        "            'model': Lasso(),\n",
        "            'params': {\n",
        "                'alpha': [1,2],\n",
        "                'selection': ['random', 'cyclic']\n",
        "            }\n",
        "        },\n",
        "        'decision_tree': {\n",
        "            'model': DecisionTreeRegressor(),\n",
        "            'params': {\n",
        "                'criterion' : ['friedman_mse', 'squared_error', 'poisson', 'absolute_error'],\n",
        "                'splitter': ['best','random']\n",
        "            }\n",
        "        },\n",
        "        'random_forest': {\n",
        "            'model': RandomForestRegressor(),\n",
        "            'params': {\n",
        "                'max_depth' : [None, 2,4,6,8,10,12]\n",
        "            }\n",
        "        }\n",
        "    }\n",
        "\n",
        "    scores = []\n",
        "    cv = ShuffleSplit(n_splits=5, test_size=0.2, random_state=0)\n",
        "    for algo_name, config in algos.items():\n",
        "        gs = GridSearchCV(config['model'], config['params'], cv=cv, return_train_score=False)\n",
        "        gs.fit(X, y)\n",
        "        scores.append({\n",
        "            'model': algo_name,\n",
        "            'best_score': gs.best_score_,\n",
        "            'best_params': gs.best_params_\n",
        "        })\n",
        "\n",
        "    return pd.DataFrame(scores, columns=['model', 'best_score', 'best_params'])\n",
        "\n",
        "find_best_model_using_gridsearchcv(X, y)"
      ]
    },
    {
      "cell_type": "markdown",
      "metadata": {
        "id": "Tku_7qIGthyZ"
      },
      "source": [
        "- As you can see the best model to use is the RandomForestRegressor. So, we'll fit our data using the RandomForestRegressor algorithm"
      ]
    },
    {
      "cell_type": "code",
      "execution_count": 33,
      "metadata": {
        "colab": {
          "base_uri": "https://localhost:8080/"
        },
        "id": "AR-xYGx9k7hW",
        "outputId": "83f6681f-688c-48f3-c56a-84db7b97880c"
      },
      "outputs": [
        {
          "data": {
            "text/plain": [
              "array([ 98872.87413889, 103287.39578427, 148220.44138868, ...,\n",
              "       131135.33485142, 163709.24459128, 154423.59395483])"
            ]
          },
          "execution_count": 33,
          "metadata": {},
          "output_type": "execute_result"
        }
      ],
      "source": [
        "model = RandomForestRegressor()\n",
        "model.fit(X, y)\n",
        "y_pred = model.predict(X)\n",
        "y_pred"
      ]
    },
    {
      "cell_type": "markdown",
      "metadata": {
        "id": "4BGVNJMUuA7X"
      },
      "source": [
        "- Now, let's have a look at our metrics"
      ]
    },
    {
      "cell_type": "code",
      "execution_count": 34,
      "metadata": {
        "colab": {
          "base_uri": "https://localhost:8080/"
        },
        "id": "Hhi6xi59lZ23",
        "outputId": "75e3de8d-5724-4ddb-8d57-03080c560618"
      },
      "outputs": [
        {
          "name": "stdout",
          "output_type": "stream",
          "text": [
            "Mean Squared Error:  1011668532.8290684\n",
            "Mean Absolute Error:  22885.652298755882\n",
            "error: 31806.74\n"
          ]
        }
      ],
      "source": [
        "import numpy as np\n",
        "from sklearn.metrics import mean_squared_error, mean_absolute_error\n",
        "\n",
        "mse = mean_squared_error(y, y_pred)\n",
        "mae = mean_absolute_error(y, y_pred)\n",
        "error = np.sqrt(mse)\n",
        "print('Mean Squared Error: ', mse)\n",
        "print('Mean Absolute Error: ', mae)\n",
        "print(f\"error: {error:.02f}\")"
      ]
    },
    {
      "cell_type": "markdown",
      "metadata": {
        "id": "TJtsRuP2vO1-"
      },
      "source": [
        "- Now, let's try an example"
      ]
    },
    {
      "cell_type": "code",
      "execution_count": 35,
      "metadata": {
        "colab": {
          "base_uri": "https://localhost:8080/"
        },
        "id": "LldwmXJjvSx_",
        "outputId": "b75b3a6f-9692-4397-941a-48b503503da1"
      },
      "outputs": [
        {
          "data": {
            "text/plain": [
              "array([['United States of America', 'Master’s degree', '15']],\n",
              "      dtype='<U24')"
            ]
          },
          "execution_count": 35,
          "metadata": {},
          "output_type": "execute_result"
        }
      ],
      "source": [
        "# test data\n",
        "X_test = np.array([[\"United States of America\", 'Master’s degree', 15 ]])\n",
        "X_test"
      ]
    },
    {
      "cell_type": "markdown",
      "metadata": {
        "id": "w7vgJnEevgET"
      },
      "source": [
        "- now, let's transform the inputs to their respective number format"
      ]
    },
    {
      "cell_type": "code",
      "execution_count": 36,
      "metadata": {
        "colab": {
          "base_uri": "https://localhost:8080/"
        },
        "id": "201udgtQvl8u",
        "outputId": "172cb576-bd08-43ed-fbfa-c2b4dee6cea5"
      },
      "outputs": [
        {
          "data": {
            "text/plain": [
              "array([[11.,  2., 15.]])"
            ]
          },
          "execution_count": 36,
          "metadata": {},
          "output_type": "execute_result"
        }
      ],
      "source": [
        "# transform each value to numerical form\n",
        "X_test[:, 0] = le_country.transform(X_test[:, 0])\n",
        "X_test[:, 1] = le_education.transform(X_test[:, 1])\n",
        "X_test = X_test.astype(float)\n",
        "X_test"
      ]
    },
    {
      "cell_type": "markdown",
      "metadata": {
        "id": "u0gPCEbBwLqo"
      },
      "source": [
        "- Now, let's predict the salary based on our new test data"
      ]
    },
    {
      "cell_type": "code",
      "execution_count": 37,
      "metadata": {
        "colab": {
          "base_uri": "https://localhost:8080/"
        },
        "id": "hON9F8z5wXGU",
        "outputId": "93e17b94-18a9-4bd1-e5dd-fd6c742a8913"
      },
      "outputs": [
        {
          "name": "stderr",
          "output_type": "stream",
          "text": [
            "/opt/anaconda3/lib/python3.12/site-packages/sklearn/base.py:493: UserWarning: X does not have valid feature names, but RandomForestRegressor was fitted with feature names\n",
            "  warnings.warn(\n"
          ]
        },
        {
          "data": {
            "text/plain": [
              "152451.9434097443"
            ]
          },
          "execution_count": 37,
          "metadata": {},
          "output_type": "execute_result"
        }
      ],
      "source": [
        "# predict salary\n",
        "y_pred = model.predict(X_test)\n",
        "y_pred[0]"
      ]
    },
    {
      "cell_type": "markdown",
      "metadata": {
        "id": "C8bIr3XnysmP"
      },
      "source": [
        "## Save Model and Important Data"
      ]
    },
    {
      "cell_type": "code",
      "execution_count": 38,
      "metadata": {
        "id": "sKyptIW8y5MY"
      },
      "outputs": [],
      "source": [
        "import pickle\n",
        "\n",
        "# important data\n",
        "imp_data = {'model': model, 'le_country': le_country, 'le_education': le_education}\n",
        "# write on imp_data\n",
        "with open('/Users/bhautik/Documents/GitHub/Salary-Prediction/model.pkl', 'wb') as file:\n",
        "  pickle.dump(imp_data, file)"
      ]
    },
    {
      "cell_type": "markdown",
      "metadata": {
        "id": "QcqO8ef50tKl"
      },
      "source": [
        "- Now, let's read the saved file then predict using our previous data (X_test)"
      ]
    },
    {
      "cell_type": "code",
      "execution_count": 40,
      "metadata": {
        "id": "i1w5gIMR01pK"
      },
      "outputs": [],
      "source": [
        "with open('/Users/bhautik/Documents/GitHub/Salary-Prediction/model.pkl', 'rb') as file:\n",
        "  imp_data = pickle.load(file)\n",
        "\n",
        "model_loaded = imp_data['model']\n",
        "le_country = imp_data['le_country']\n",
        "le_education = imp_data['le_education']"
      ]
    },
    {
      "cell_type": "code",
      "execution_count": 41,
      "metadata": {
        "colab": {
          "base_uri": "https://localhost:8080/"
        },
        "id": "GAzWUvqS1fpn",
        "outputId": "6f646c17-f5db-4e62-afd6-3eafabda5fbd"
      },
      "outputs": [
        {
          "name": "stderr",
          "output_type": "stream",
          "text": [
            "/opt/anaconda3/lib/python3.12/site-packages/sklearn/base.py:493: UserWarning: X does not have valid feature names, but RandomForestRegressor was fitted with feature names\n",
            "  warnings.warn(\n"
          ]
        },
        {
          "data": {
            "text/plain": [
              "array([152451.94340974])"
            ]
          },
          "execution_count": 41,
          "metadata": {},
          "output_type": "execute_result"
        }
      ],
      "source": [
        "# predict\n",
        "y_pred = model_loaded.predict(X_test)\n",
        "y_pred"
      ]
    },
    {
      "cell_type": "markdown",
      "metadata": {
        "id": "tBPZRIgB1rF7"
      },
      "source": [
        "- As you can see the loaded model prediction is the same as the first prediction we used on X_test before saving the model"
      ]
    }
  ],
  "metadata": {
    "colab": {
      "provenance": []
    },
    "kernelspec": {
      "display_name": "base",
      "language": "python",
      "name": "python3"
    },
    "language_info": {
      "codemirror_mode": {
        "name": "ipython",
        "version": 3
      },
      "file_extension": ".py",
      "mimetype": "text/x-python",
      "name": "python",
      "nbconvert_exporter": "python",
      "pygments_lexer": "ipython3",
      "version": "3.12.7"
    }
  },
  "nbformat": 4,
  "nbformat_minor": 0
}
